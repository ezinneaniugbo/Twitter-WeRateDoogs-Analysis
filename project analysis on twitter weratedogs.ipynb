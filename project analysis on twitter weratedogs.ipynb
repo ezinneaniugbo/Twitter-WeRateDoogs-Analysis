{
 "cells": [
  {
   "cell_type": "markdown",
   "id": "10cc1182",
   "metadata": {},
   "source": [
    "# PROJECT: Wrangling and Analyzing Data\n",
    "by: Aniugbo Queen-Esther"
   ]
  },
  {
   "cell_type": "markdown",
   "id": "a9f7b573",
   "metadata": {},
   "source": [
    "## Data Gathering act\n",
    "In this analysis, I'll gather three pieces of data from different sources which will be a csv file, tsv file and one from the tweepy libary"
   ]
  },
  {
   "cell_type": "markdown",
   "id": "4476ab74",
   "metadata": {},
   "source": [
    "~First i'll import all the libaries i will need for this analysis"
   ]
  },
  {
   "cell_type": "code",
   "execution_count": 180,
   "id": "ab2ca59a",
   "metadata": {},
   "outputs": [
    {
     "name": "stdout",
     "output_type": "stream",
     "text": [
      "setup complete\n"
     ]
    }
   ],
   "source": [
    "#import libaries\n",
    "import pandas as pd\n",
    "import numpy as np\n",
    "import matplotlib.pyplot as plt\n",
    "import seaborn as sns\n",
    "sns.set()\n",
    "import requests\n",
    "import tweepy\n",
    "from tweepy import OAuthHandler\n",
    "import json\n",
    "import time\n",
    "import os\n",
    "from timeit import default_timer as timer\n",
    "%matplotlib inline\n",
    "print('setup complete')"
   ]
  },
  {
   "cell_type": "markdown",
   "id": "33e5359f",
   "metadata": {},
   "source": [
    "1. Directly download the WeRateDogs Twitter archive data (twitter_archive_enhanced.csv) and Loading the twitter-archive-enhanced.csv file as twitter_arch"
   ]
  },
  {
   "cell_type": "code",
   "execution_count": 181,
   "id": "925fcfc0",
   "metadata": {},
   "outputs": [],
   "source": [
    "twitter_arch = pd.read_csv('twitter-archive-enhanced.csv')"
   ]
  },
  {
   "cell_type": "markdown",
   "id": "9568be95",
   "metadata": {},
   "source": [
    "2.Using the request libary to download image-predictions.tsv file"
   ]
  },
  {
   "cell_type": "code",
   "execution_count": 182,
   "id": "eadd23e6",
   "metadata": {},
   "outputs": [],
   "source": [
    "url = 'https://d17h27t6h515a5.cloudfront.net/topher/2017/August/599fd2ad_image-predictions/image-predictions.tsv'\n",
    "response = requests.get(url)\n",
    "with open ('image-predictions.tsv', mode='wb') as file:\n",
    "    file.write(response.content)"
   ]
  },
  {
   "cell_type": "code",
   "execution_count": 183,
   "id": "31190f9d",
   "metadata": {},
   "outputs": [],
   "source": [
    "image_pred = pd.read_csv('image-predictions.tsv', sep='\\t')"
   ]
  },
  {
   "cell_type": "markdown",
   "id": "41d1b569",
   "metadata": {},
   "source": [
    "3. Using the Tweepy library to query additional data via the Twitter API (tweet_json.txt)"
   ]
  },
  {
   "cell_type": "code",
   "execution_count": 184,
   "id": "85308e0c",
   "metadata": {},
   "outputs": [],
   "source": [
    "tweets_list = []\n",
    "\n",
    "with open('tweet-json.txt', 'r') as file:\n",
    "    for line in file:\n",
    "        data = json.loads(line)\n",
    "        tweets_list.append(data)"
   ]
  },
  {
   "cell_type": "code",
   "execution_count": 185,
   "id": "db54c20e",
   "metadata": {},
   "outputs": [],
   "source": [
    "#To read in the data\n",
    "df3 = pd.DataFrame(tweets_list, columns=['id', 'retweet_count', 'favorite_count'])"
   ]
  },
  {
   "cell_type": "markdown",
   "id": "94e36be0",
   "metadata": {},
   "source": [
    "# Assesssing Data"
   ]
  },
  {
   "cell_type": "markdown",
   "id": "0bd99629",
   "metadata": {},
   "source": [
    "### Visual Assessment"
   ]
  },
  {
   "cell_type": "code",
   "execution_count": 186,
   "id": "c865bfb4",
   "metadata": {
    "scrolled": true
   },
   "outputs": [
    {
     "data": {
      "text/html": [
       "<div>\n",
       "<style scoped>\n",
       "    .dataframe tbody tr th:only-of-type {\n",
       "        vertical-align: middle;\n",
       "    }\n",
       "\n",
       "    .dataframe tbody tr th {\n",
       "        vertical-align: top;\n",
       "    }\n",
       "\n",
       "    .dataframe thead th {\n",
       "        text-align: right;\n",
       "    }\n",
       "</style>\n",
       "<table border=\"1\" class=\"dataframe\">\n",
       "  <thead>\n",
       "    <tr style=\"text-align: right;\">\n",
       "      <th></th>\n",
       "      <th>tweet_id</th>\n",
       "      <th>in_reply_to_status_id</th>\n",
       "      <th>in_reply_to_user_id</th>\n",
       "      <th>timestamp</th>\n",
       "      <th>source</th>\n",
       "      <th>text</th>\n",
       "      <th>retweeted_status_id</th>\n",
       "      <th>retweeted_status_user_id</th>\n",
       "      <th>retweeted_status_timestamp</th>\n",
       "      <th>expanded_urls</th>\n",
       "      <th>rating_numerator</th>\n",
       "      <th>rating_denominator</th>\n",
       "      <th>name</th>\n",
       "      <th>doggo</th>\n",
       "      <th>floofer</th>\n",
       "      <th>pupper</th>\n",
       "      <th>puppo</th>\n",
       "    </tr>\n",
       "  </thead>\n",
       "  <tbody>\n",
       "    <tr>\n",
       "      <th>1607</th>\n",
       "      <td>685663452032069632</td>\n",
       "      <td>NaN</td>\n",
       "      <td>NaN</td>\n",
       "      <td>2016-01-09 03:24:40 +0000</td>\n",
       "      <td>&lt;a href=\"http://twitter.com/download/iphone\" r...</td>\n",
       "      <td>Meet Brooks. He's confused by the almighty bal...</td>\n",
       "      <td>NaN</td>\n",
       "      <td>NaN</td>\n",
       "      <td>NaN</td>\n",
       "      <td>https://twitter.com/dog_rates/status/685663452...</td>\n",
       "      <td>12</td>\n",
       "      <td>10</td>\n",
       "      <td>Brooks</td>\n",
       "      <td>None</td>\n",
       "      <td>None</td>\n",
       "      <td>None</td>\n",
       "      <td>None</td>\n",
       "    </tr>\n",
       "    <tr>\n",
       "      <th>871</th>\n",
       "      <td>761599872357261312</td>\n",
       "      <td>NaN</td>\n",
       "      <td>NaN</td>\n",
       "      <td>2016-08-05 16:28:54 +0000</td>\n",
       "      <td>&lt;a href=\"http://twitter.com/download/iphone\" r...</td>\n",
       "      <td>This is Sephie. According to this picture, she...</td>\n",
       "      <td>NaN</td>\n",
       "      <td>NaN</td>\n",
       "      <td>NaN</td>\n",
       "      <td>https://twitter.com/dog_rates/status/761599872...</td>\n",
       "      <td>11</td>\n",
       "      <td>10</td>\n",
       "      <td>Sephie</td>\n",
       "      <td>None</td>\n",
       "      <td>None</td>\n",
       "      <td>None</td>\n",
       "      <td>None</td>\n",
       "    </tr>\n",
       "    <tr>\n",
       "      <th>1766</th>\n",
       "      <td>678399652199309312</td>\n",
       "      <td>NaN</td>\n",
       "      <td>NaN</td>\n",
       "      <td>2015-12-20 02:20:55 +0000</td>\n",
       "      <td>&lt;a href=\"http://twitter.com/download/iphone\" r...</td>\n",
       "      <td>This made my day. 12/10 please enjoy https://t...</td>\n",
       "      <td>NaN</td>\n",
       "      <td>NaN</td>\n",
       "      <td>NaN</td>\n",
       "      <td>https://twitter.com/dog_rates/status/678399652...</td>\n",
       "      <td>12</td>\n",
       "      <td>10</td>\n",
       "      <td>None</td>\n",
       "      <td>None</td>\n",
       "      <td>None</td>\n",
       "      <td>None</td>\n",
       "      <td>None</td>\n",
       "    </tr>\n",
       "  </tbody>\n",
       "</table>\n",
       "</div>"
      ],
      "text/plain": [
       "                tweet_id  in_reply_to_status_id  in_reply_to_user_id  \\\n",
       "1607  685663452032069632                    NaN                  NaN   \n",
       "871   761599872357261312                    NaN                  NaN   \n",
       "1766  678399652199309312                    NaN                  NaN   \n",
       "\n",
       "                      timestamp  \\\n",
       "1607  2016-01-09 03:24:40 +0000   \n",
       "871   2016-08-05 16:28:54 +0000   \n",
       "1766  2015-12-20 02:20:55 +0000   \n",
       "\n",
       "                                                 source  \\\n",
       "1607  <a href=\"http://twitter.com/download/iphone\" r...   \n",
       "871   <a href=\"http://twitter.com/download/iphone\" r...   \n",
       "1766  <a href=\"http://twitter.com/download/iphone\" r...   \n",
       "\n",
       "                                                   text  retweeted_status_id  \\\n",
       "1607  Meet Brooks. He's confused by the almighty bal...                  NaN   \n",
       "871   This is Sephie. According to this picture, she...                  NaN   \n",
       "1766  This made my day. 12/10 please enjoy https://t...                  NaN   \n",
       "\n",
       "      retweeted_status_user_id retweeted_status_timestamp  \\\n",
       "1607                       NaN                        NaN   \n",
       "871                        NaN                        NaN   \n",
       "1766                       NaN                        NaN   \n",
       "\n",
       "                                          expanded_urls  rating_numerator  \\\n",
       "1607  https://twitter.com/dog_rates/status/685663452...                12   \n",
       "871   https://twitter.com/dog_rates/status/761599872...                11   \n",
       "1766  https://twitter.com/dog_rates/status/678399652...                12   \n",
       "\n",
       "      rating_denominator    name doggo floofer pupper puppo  \n",
       "1607                  10  Brooks  None    None   None  None  \n",
       "871                   10  Sephie  None    None   None  None  \n",
       "1766                  10    None  None    None   None  None  "
      ]
     },
     "execution_count": 186,
     "metadata": {},
     "output_type": "execute_result"
    }
   ],
   "source": [
    "twitter_arch.sample(3)"
   ]
  },
  {
   "cell_type": "markdown",
   "id": "18aa00bf",
   "metadata": {},
   "source": [
    "### There are columns that have missing data and will be dropped\n",
    "The columns that will be dropped are in_reply_to_status_id, in_reply_to_user_id, retweeted_status_id, retweeted_status_user_id and retweeted_status_timestamp"
   ]
  },
  {
   "cell_type": "code",
   "execution_count": 187,
   "id": "d1e6db10",
   "metadata": {},
   "outputs": [
    {
     "data": {
      "text/plain": [
       "1086    2016-06-02 00:32:39 +0000\n",
       "Name: timestamp, dtype: object"
      ]
     },
     "execution_count": 187,
     "metadata": {},
     "output_type": "execute_result"
    }
   ],
   "source": [
    "twitter_arch['timestamp'].sample()"
   ]
  },
  {
   "cell_type": "markdown",
   "id": "85d5b31e",
   "metadata": {},
   "source": [
    "The timestamp column will be converted to datetime datatype"
   ]
  },
  {
   "cell_type": "code",
   "execution_count": 188,
   "id": "cc2a3b27",
   "metadata": {},
   "outputs": [
    {
     "data": {
      "text/plain": [
       "<a href=\"http://twitter.com/download/iphone\" rel=\"nofollow\">Twitter for iPhone</a>     2221\n",
       "<a href=\"http://vine.co\" rel=\"nofollow\">Vine - Make a Scene</a>                          91\n",
       "<a href=\"http://twitter.com\" rel=\"nofollow\">Twitter Web Client</a>                       33\n",
       "<a href=\"https://about.twitter.com/products/tweetdeck\" rel=\"nofollow\">TweetDeck</a>      11\n",
       "Name: source, dtype: int64"
      ]
     },
     "execution_count": 188,
     "metadata": {},
     "output_type": "execute_result"
    }
   ],
   "source": [
    "twitter_arch['source'].value_counts()"
   ]
  },
  {
   "cell_type": "markdown",
   "id": "f519dd68",
   "metadata": {},
   "source": [
    "Clean the rows to extract the text from the anchor tag"
   ]
  },
  {
   "cell_type": "code",
   "execution_count": 189,
   "id": "0bbde1a9",
   "metadata": {},
   "outputs": [
    {
     "data": {
      "text/plain": [
       "doggo  floofer  pupper  puppo\n",
       "None   None     None    None     1976\n",
       "                pupper  None      245\n",
       "doggo  None     None    None       83\n",
       "None   None     None    puppo      29\n",
       "doggo  None     pupper  None       12\n",
       "None   floofer  None    None        9\n",
       "doggo  None     None    puppo       1\n",
       "       floofer  None    None        1\n",
       "dtype: int64"
      ]
     },
     "execution_count": 189,
     "metadata": {},
     "output_type": "execute_result"
    }
   ],
   "source": [
    "twitter_arch[['doggo','floofer', 'pupper', 'puppo']].value_counts()"
   ]
  },
  {
   "cell_type": "markdown",
   "id": "4f6d0e40",
   "metadata": {},
   "source": [
    "Combine the four dogs stages into one column"
   ]
  },
  {
   "cell_type": "code",
   "execution_count": 190,
   "id": "2155fee1",
   "metadata": {},
   "outputs": [
    {
     "data": {
      "text/html": [
       "<div>\n",
       "<style scoped>\n",
       "    .dataframe tbody tr th:only-of-type {\n",
       "        vertical-align: middle;\n",
       "    }\n",
       "\n",
       "    .dataframe tbody tr th {\n",
       "        vertical-align: top;\n",
       "    }\n",
       "\n",
       "    .dataframe thead th {\n",
       "        text-align: right;\n",
       "    }\n",
       "</style>\n",
       "<table border=\"1\" class=\"dataframe\">\n",
       "  <thead>\n",
       "    <tr style=\"text-align: right;\">\n",
       "      <th></th>\n",
       "      <th>tweet_id</th>\n",
       "      <th>jpg_url</th>\n",
       "      <th>img_num</th>\n",
       "      <th>p1</th>\n",
       "      <th>p1_conf</th>\n",
       "      <th>p1_dog</th>\n",
       "      <th>p2</th>\n",
       "      <th>p2_conf</th>\n",
       "      <th>p2_dog</th>\n",
       "      <th>p3</th>\n",
       "      <th>p3_conf</th>\n",
       "      <th>p3_dog</th>\n",
       "    </tr>\n",
       "  </thead>\n",
       "  <tbody>\n",
       "    <tr>\n",
       "      <th>629</th>\n",
       "      <td>680913438424612864</td>\n",
       "      <td>https://pbs.twimg.com/media/CXMXKKHUMAA1QN3.jpg</td>\n",
       "      <td>1</td>\n",
       "      <td>Pomeranian</td>\n",
       "      <td>0.615678</td>\n",
       "      <td>True</td>\n",
       "      <td>golden_retriever</td>\n",
       "      <td>0.126455</td>\n",
       "      <td>True</td>\n",
       "      <td>Chihuahua</td>\n",
       "      <td>0.087184</td>\n",
       "      <td>True</td>\n",
       "    </tr>\n",
       "    <tr>\n",
       "      <th>1025</th>\n",
       "      <td>710658690886586372</td>\n",
       "      <td>https://pbs.twimg.com/media/CdzETn4W4AAVU5N.jpg</td>\n",
       "      <td>1</td>\n",
       "      <td>soft-coated_wheaten_terrier</td>\n",
       "      <td>0.948617</td>\n",
       "      <td>True</td>\n",
       "      <td>Dandie_Dinmont</td>\n",
       "      <td>0.018664</td>\n",
       "      <td>True</td>\n",
       "      <td>cairn</td>\n",
       "      <td>0.015943</td>\n",
       "      <td>True</td>\n",
       "    </tr>\n",
       "    <tr>\n",
       "      <th>234</th>\n",
       "      <td>670421925039075328</td>\n",
       "      <td>https://pbs.twimg.com/media/CU3RLqfW4AE0pbA.jpg</td>\n",
       "      <td>1</td>\n",
       "      <td>Chihuahua</td>\n",
       "      <td>0.275793</td>\n",
       "      <td>True</td>\n",
       "      <td>corn</td>\n",
       "      <td>0.073596</td>\n",
       "      <td>False</td>\n",
       "      <td>bolete</td>\n",
       "      <td>0.054905</td>\n",
       "      <td>False</td>\n",
       "    </tr>\n",
       "    <tr>\n",
       "      <th>60</th>\n",
       "      <td>667138269671505920</td>\n",
       "      <td>https://pbs.twimg.com/media/CUImtzEVAAAZNJo.jpg</td>\n",
       "      <td>1</td>\n",
       "      <td>West_Highland_white_terrier</td>\n",
       "      <td>0.747713</td>\n",
       "      <td>True</td>\n",
       "      <td>Samoyed</td>\n",
       "      <td>0.243629</td>\n",
       "      <td>True</td>\n",
       "      <td>toy_poodle</td>\n",
       "      <td>0.001804</td>\n",
       "      <td>True</td>\n",
       "    </tr>\n",
       "    <tr>\n",
       "      <th>1772</th>\n",
       "      <td>827933404142436356</td>\n",
       "      <td>https://pbs.twimg.com/media/C31pCN4UcAAOLNH.jpg</td>\n",
       "      <td>2</td>\n",
       "      <td>German_shepherd</td>\n",
       "      <td>0.806115</td>\n",
       "      <td>True</td>\n",
       "      <td>Tibetan_mastiff</td>\n",
       "      <td>0.104831</td>\n",
       "      <td>True</td>\n",
       "      <td>kelpie</td>\n",
       "      <td>0.038148</td>\n",
       "      <td>True</td>\n",
       "    </tr>\n",
       "    <tr>\n",
       "      <th>690</th>\n",
       "      <td>684195085588783105</td>\n",
       "      <td>https://pbs.twimg.com/media/CX6_y6OU0AAl3v2.jpg</td>\n",
       "      <td>1</td>\n",
       "      <td>Chihuahua</td>\n",
       "      <td>0.379365</td>\n",
       "      <td>True</td>\n",
       "      <td>toy_terrier</td>\n",
       "      <td>0.121809</td>\n",
       "      <td>True</td>\n",
       "      <td>Boston_bull</td>\n",
       "      <td>0.095981</td>\n",
       "      <td>True</td>\n",
       "    </tr>\n",
       "    <tr>\n",
       "      <th>1672</th>\n",
       "      <td>813112105746448384</td>\n",
       "      <td>https://pbs.twimg.com/media/C0jBJZVWQAA2_-X.jpg</td>\n",
       "      <td>1</td>\n",
       "      <td>dingo</td>\n",
       "      <td>0.287369</td>\n",
       "      <td>False</td>\n",
       "      <td>Pembroke</td>\n",
       "      <td>0.140682</td>\n",
       "      <td>True</td>\n",
       "      <td>basenji</td>\n",
       "      <td>0.090819</td>\n",
       "      <td>True</td>\n",
       "    </tr>\n",
       "    <tr>\n",
       "      <th>2015</th>\n",
       "      <td>879492040517615616</td>\n",
       "      <td>https://pbs.twimg.com/media/DDSVWMvXsAEgmMK.jpg</td>\n",
       "      <td>1</td>\n",
       "      <td>German_short-haired_pointer</td>\n",
       "      <td>0.479896</td>\n",
       "      <td>True</td>\n",
       "      <td>vizsla</td>\n",
       "      <td>0.124353</td>\n",
       "      <td>True</td>\n",
       "      <td>bath_towel</td>\n",
       "      <td>0.073320</td>\n",
       "      <td>False</td>\n",
       "    </tr>\n",
       "    <tr>\n",
       "      <th>1191</th>\n",
       "      <td>739932936087216128</td>\n",
       "      <td>https://pbs.twimg.com/media/CkTFEe-W0AA90m1.jpg</td>\n",
       "      <td>1</td>\n",
       "      <td>redbone</td>\n",
       "      <td>0.243904</td>\n",
       "      <td>True</td>\n",
       "      <td>beagle</td>\n",
       "      <td>0.210975</td>\n",
       "      <td>True</td>\n",
       "      <td>vizsla</td>\n",
       "      <td>0.076443</td>\n",
       "      <td>True</td>\n",
       "    </tr>\n",
       "  </tbody>\n",
       "</table>\n",
       "</div>"
      ],
      "text/plain": [
       "                tweet_id                                          jpg_url  \\\n",
       "629   680913438424612864  https://pbs.twimg.com/media/CXMXKKHUMAA1QN3.jpg   \n",
       "1025  710658690886586372  https://pbs.twimg.com/media/CdzETn4W4AAVU5N.jpg   \n",
       "234   670421925039075328  https://pbs.twimg.com/media/CU3RLqfW4AE0pbA.jpg   \n",
       "60    667138269671505920  https://pbs.twimg.com/media/CUImtzEVAAAZNJo.jpg   \n",
       "1772  827933404142436356  https://pbs.twimg.com/media/C31pCN4UcAAOLNH.jpg   \n",
       "690   684195085588783105  https://pbs.twimg.com/media/CX6_y6OU0AAl3v2.jpg   \n",
       "1672  813112105746448384  https://pbs.twimg.com/media/C0jBJZVWQAA2_-X.jpg   \n",
       "2015  879492040517615616  https://pbs.twimg.com/media/DDSVWMvXsAEgmMK.jpg   \n",
       "1191  739932936087216128  https://pbs.twimg.com/media/CkTFEe-W0AA90m1.jpg   \n",
       "\n",
       "      img_num                           p1   p1_conf  p1_dog  \\\n",
       "629         1                   Pomeranian  0.615678    True   \n",
       "1025        1  soft-coated_wheaten_terrier  0.948617    True   \n",
       "234         1                    Chihuahua  0.275793    True   \n",
       "60          1  West_Highland_white_terrier  0.747713    True   \n",
       "1772        2              German_shepherd  0.806115    True   \n",
       "690         1                    Chihuahua  0.379365    True   \n",
       "1672        1                        dingo  0.287369   False   \n",
       "2015        1  German_short-haired_pointer  0.479896    True   \n",
       "1191        1                      redbone  0.243904    True   \n",
       "\n",
       "                    p2   p2_conf  p2_dog           p3   p3_conf  p3_dog  \n",
       "629   golden_retriever  0.126455    True    Chihuahua  0.087184    True  \n",
       "1025    Dandie_Dinmont  0.018664    True        cairn  0.015943    True  \n",
       "234               corn  0.073596   False       bolete  0.054905   False  \n",
       "60             Samoyed  0.243629    True   toy_poodle  0.001804    True  \n",
       "1772   Tibetan_mastiff  0.104831    True       kelpie  0.038148    True  \n",
       "690        toy_terrier  0.121809    True  Boston_bull  0.095981    True  \n",
       "1672          Pembroke  0.140682    True      basenji  0.090819    True  \n",
       "2015            vizsla  0.124353    True   bath_towel  0.073320   False  \n",
       "1191            beagle  0.210975    True       vizsla  0.076443    True  "
      ]
     },
     "execution_count": 190,
     "metadata": {},
     "output_type": "execute_result"
    }
   ],
   "source": [
    "image_pred.sample(9)"
   ]
  },
  {
   "cell_type": "markdown",
   "id": "9391b427",
   "metadata": {},
   "source": [
    "The names of dogs in columns p1, p2, and p3 have both uppercase and lowercase letters"
   ]
  },
  {
   "cell_type": "code",
   "execution_count": 191,
   "id": "fc1747ed",
   "metadata": {},
   "outputs": [
    {
     "data": {
      "text/html": [
       "<div>\n",
       "<style scoped>\n",
       "    .dataframe tbody tr th:only-of-type {\n",
       "        vertical-align: middle;\n",
       "    }\n",
       "\n",
       "    .dataframe tbody tr th {\n",
       "        vertical-align: top;\n",
       "    }\n",
       "\n",
       "    .dataframe thead th {\n",
       "        text-align: right;\n",
       "    }\n",
       "</style>\n",
       "<table border=\"1\" class=\"dataframe\">\n",
       "  <thead>\n",
       "    <tr style=\"text-align: right;\">\n",
       "      <th></th>\n",
       "      <th>id</th>\n",
       "      <th>retweet_count</th>\n",
       "      <th>favorite_count</th>\n",
       "    </tr>\n",
       "  </thead>\n",
       "  <tbody>\n",
       "    <tr>\n",
       "      <th>1447</th>\n",
       "      <td>696100768806522880</td>\n",
       "      <td>750</td>\n",
       "      <td>2125</td>\n",
       "    </tr>\n",
       "    <tr>\n",
       "      <th>480</th>\n",
       "      <td>815639385530101762</td>\n",
       "      <td>1918</td>\n",
       "      <td>9161</td>\n",
       "    </tr>\n",
       "    <tr>\n",
       "      <th>1852</th>\n",
       "      <td>675534494439489536</td>\n",
       "      <td>470</td>\n",
       "      <td>1953</td>\n",
       "    </tr>\n",
       "    <tr>\n",
       "      <th>1717</th>\n",
       "      <td>680161097740095489</td>\n",
       "      <td>828</td>\n",
       "      <td>2538</td>\n",
       "    </tr>\n",
       "    <tr>\n",
       "      <th>2178</th>\n",
       "      <td>669000397445533696</td>\n",
       "      <td>6965</td>\n",
       "      <td>22118</td>\n",
       "    </tr>\n",
       "    <tr>\n",
       "      <th>1778</th>\n",
       "      <td>677700003327029250</td>\n",
       "      <td>1622</td>\n",
       "      <td>3689</td>\n",
       "    </tr>\n",
       "    <tr>\n",
       "      <th>1258</th>\n",
       "      <td>710269109699739648</td>\n",
       "      <td>1257</td>\n",
       "      <td>2613</td>\n",
       "    </tr>\n",
       "    <tr>\n",
       "      <th>906</th>\n",
       "      <td>757729163776290825</td>\n",
       "      <td>9299</td>\n",
       "      <td>0</td>\n",
       "    </tr>\n",
       "    <tr>\n",
       "      <th>1897</th>\n",
       "      <td>674670581682434048</td>\n",
       "      <td>729</td>\n",
       "      <td>1751</td>\n",
       "    </tr>\n",
       "    <tr>\n",
       "      <th>1180</th>\n",
       "      <td>718971898235854848</td>\n",
       "      <td>1231</td>\n",
       "      <td>3818</td>\n",
       "    </tr>\n",
       "  </tbody>\n",
       "</table>\n",
       "</div>"
      ],
      "text/plain": [
       "                      id  retweet_count  favorite_count\n",
       "1447  696100768806522880            750            2125\n",
       "480   815639385530101762           1918            9161\n",
       "1852  675534494439489536            470            1953\n",
       "1717  680161097740095489            828            2538\n",
       "2178  669000397445533696           6965           22118\n",
       "1778  677700003327029250           1622            3689\n",
       "1258  710269109699739648           1257            2613\n",
       "906   757729163776290825           9299               0\n",
       "1897  674670581682434048            729            1751\n",
       "1180  718971898235854848           1231            3818"
      ]
     },
     "execution_count": 191,
     "metadata": {},
     "output_type": "execute_result"
    }
   ],
   "source": [
    "df3.sample(10)"
   ]
  },
  {
   "cell_type": "markdown",
   "id": "b7846ff8",
   "metadata": {},
   "source": [
    "Will have to change the id column to tweet id"
   ]
  },
  {
   "cell_type": "code",
   "execution_count": 192,
   "id": "141c8486",
   "metadata": {},
   "outputs": [
    {
     "data": {
      "text/plain": [
       "(2354, 3)"
      ]
     },
     "execution_count": 192,
     "metadata": {},
     "output_type": "execute_result"
    }
   ],
   "source": [
    "df3.shape"
   ]
  },
  {
   "cell_type": "markdown",
   "id": "0e3caf17",
   "metadata": {},
   "source": [
    "### Progammatical Assessment"
   ]
  },
  {
   "cell_type": "markdown",
   "id": "ded99556",
   "metadata": {},
   "source": [
    "~Now i'll be identifying the tidyness and quality issues using programatic assessment"
   ]
  },
  {
   "cell_type": "code",
   "execution_count": 193,
   "id": "2a74a7cd",
   "metadata": {},
   "outputs": [
    {
     "name": "stdout",
     "output_type": "stream",
     "text": [
      "<class 'pandas.core.frame.DataFrame'>\n",
      "RangeIndex: 2075 entries, 0 to 2074\n",
      "Data columns (total 12 columns):\n",
      " #   Column    Non-Null Count  Dtype  \n",
      "---  ------    --------------  -----  \n",
      " 0   tweet_id  2075 non-null   int64  \n",
      " 1   jpg_url   2075 non-null   object \n",
      " 2   img_num   2075 non-null   int64  \n",
      " 3   p1        2075 non-null   object \n",
      " 4   p1_conf   2075 non-null   float64\n",
      " 5   p1_dog    2075 non-null   bool   \n",
      " 6   p2        2075 non-null   object \n",
      " 7   p2_conf   2075 non-null   float64\n",
      " 8   p2_dog    2075 non-null   bool   \n",
      " 9   p3        2075 non-null   object \n",
      " 10  p3_conf   2075 non-null   float64\n",
      " 11  p3_dog    2075 non-null   bool   \n",
      "dtypes: bool(3), float64(3), int64(2), object(4)\n",
      "memory usage: 152.1+ KB\n"
     ]
    }
   ],
   "source": [
    "image_pred.info()"
   ]
  },
  {
   "cell_type": "code",
   "execution_count": 194,
   "id": "60efd236",
   "metadata": {},
   "outputs": [
    {
     "name": "stdout",
     "output_type": "stream",
     "text": [
      "<class 'pandas.core.frame.DataFrame'>\n",
      "RangeIndex: 2354 entries, 0 to 2353\n",
      "Data columns (total 3 columns):\n",
      " #   Column          Non-Null Count  Dtype\n",
      "---  ------          --------------  -----\n",
      " 0   id              2354 non-null   int64\n",
      " 1   retweet_count   2354 non-null   int64\n",
      " 2   favorite_count  2354 non-null   int64\n",
      "dtypes: int64(3)\n",
      "memory usage: 55.3 KB\n"
     ]
    }
   ],
   "source": [
    "df3.info()"
   ]
  },
  {
   "cell_type": "code",
   "execution_count": 195,
   "id": "18febe70",
   "metadata": {},
   "outputs": [
    {
     "name": "stdout",
     "output_type": "stream",
     "text": [
      "<class 'pandas.core.frame.DataFrame'>\n",
      "RangeIndex: 2356 entries, 0 to 2355\n",
      "Data columns (total 17 columns):\n",
      " #   Column                      Non-Null Count  Dtype  \n",
      "---  ------                      --------------  -----  \n",
      " 0   tweet_id                    2356 non-null   int64  \n",
      " 1   in_reply_to_status_id       78 non-null     float64\n",
      " 2   in_reply_to_user_id         78 non-null     float64\n",
      " 3   timestamp                   2356 non-null   object \n",
      " 4   source                      2356 non-null   object \n",
      " 5   text                        2356 non-null   object \n",
      " 6   retweeted_status_id         181 non-null    float64\n",
      " 7   retweeted_status_user_id    181 non-null    float64\n",
      " 8   retweeted_status_timestamp  181 non-null    object \n",
      " 9   expanded_urls               2297 non-null   object \n",
      " 10  rating_numerator            2356 non-null   int64  \n",
      " 11  rating_denominator          2356 non-null   int64  \n",
      " 12  name                        2356 non-null   object \n",
      " 13  doggo                       2356 non-null   object \n",
      " 14  floofer                     2356 non-null   object \n",
      " 15  pupper                      2356 non-null   object \n",
      " 16  puppo                       2356 non-null   object \n",
      "dtypes: float64(4), int64(3), object(10)\n",
      "memory usage: 313.0+ KB\n"
     ]
    }
   ],
   "source": [
    "twitter_arch.info()"
   ]
  },
  {
   "cell_type": "markdown",
   "id": "923e9263",
   "metadata": {},
   "source": [
    "### Quality\n",
    "<ul>\n",
    "    <li>Identifing reply and retweet and drop them</li>\n",
    "    <li>Missing values in columns will dropped</li>\n",
    "    <li>Timestamp should be in datetime datatype</li>\n",
    "    <li>The source column in twitter archive includes some of html code</li>\n",
    "<li>Extract numerator content from text column</li>\n",
    "<li>The names of dogs in columns p1, p2, and p3 have both uppercase and lowercase letters in the image prediction table</li>\n",
    "<li>Drops rows with duplicates in the jpg_url column</li>\n",
    "    <li>Rename id in the tweets df as tweets_id</li>"
   ]
  },
  {
   "cell_type": "markdown",
   "id": "fe2d1218",
   "metadata": {},
   "source": [
    "### Tidiness\n",
    "   <ul>\n",
    "    <li>Doggo, Floofer, Pupper and Puppo should be in one row</li>\n",
    "    <li>Join 'tweet_info' and 'image_predictions' to 'twitter_archive'</li>"
   ]
  },
  {
   "cell_type": "markdown",
   "id": "29103d6b",
   "metadata": {},
   "source": [
    "## Cleaning Data"
   ]
  },
  {
   "cell_type": "markdown",
   "id": "7daf12a4",
   "metadata": {},
   "source": [
    "Making a copy of the original data before cleaning"
   ]
  },
  {
   "cell_type": "code",
   "execution_count": 196,
   "id": "807e7519",
   "metadata": {},
   "outputs": [],
   "source": [
    "arch_df=twitter_arch.copy()\n",
    "prediction_df=image_pred.copy()\n",
    "json_df=df3.copy()"
   ]
  },
  {
   "cell_type": "markdown",
   "id": "6eb935f7",
   "metadata": {},
   "source": [
    "## Quality"
   ]
  },
  {
   "cell_type": "markdown",
   "id": "5f30449a",
   "metadata": {},
   "source": [
    "### def: Identifing reply and retweet and drop them"
   ]
  },
  {
   "cell_type": "markdown",
   "id": "8961059c",
   "metadata": {},
   "source": [
    "### code"
   ]
  },
  {
   "cell_type": "code",
   "execution_count": 197,
   "id": "8f3da729",
   "metadata": {},
   "outputs": [],
   "source": [
    "#Creating a function to drop rows and columns\n",
    "def drop_row_col(dframe, row_col, axis=0):\n",
    "    dframe.drop(row_col, axis=axis, inplace=True)\n"
   ]
  },
  {
   "cell_type": "code",
   "execution_count": 198,
   "id": "d9a88079",
   "metadata": {},
   "outputs": [],
   "source": [
    "reply_id = twitter_arch[pd.notnull(twitter_arch['in_reply_to_user_id'])].index\n",
    "drop_row_col(twitter_arch, reply_id)"
   ]
  },
  {
   "cell_type": "code",
   "execution_count": 199,
   "id": "c2ee7c7e",
   "metadata": {},
   "outputs": [],
   "source": [
    "retweet_id = twitter_arch[pd.notnull(twitter_arch['retweeted_status_user_id'])].index\n",
    "drop_row_col(twitter_arch, retweet_id)"
   ]
  },
  {
   "cell_type": "markdown",
   "id": "95673c21",
   "metadata": {},
   "source": [
    "### Test"
   ]
  },
  {
   "cell_type": "code",
   "execution_count": 200,
   "id": "04f28de4",
   "metadata": {},
   "outputs": [
    {
     "name": "stdout",
     "output_type": "stream",
     "text": [
      "<class 'pandas.core.frame.DataFrame'>\n",
      "Int64Index: 2097 entries, 0 to 2355\n",
      "Data columns (total 17 columns):\n",
      " #   Column                      Non-Null Count  Dtype  \n",
      "---  ------                      --------------  -----  \n",
      " 0   tweet_id                    2097 non-null   int64  \n",
      " 1   in_reply_to_status_id       0 non-null      float64\n",
      " 2   in_reply_to_user_id         0 non-null      float64\n",
      " 3   timestamp                   2097 non-null   object \n",
      " 4   source                      2097 non-null   object \n",
      " 5   text                        2097 non-null   object \n",
      " 6   retweeted_status_id         0 non-null      float64\n",
      " 7   retweeted_status_user_id    0 non-null      float64\n",
      " 8   retweeted_status_timestamp  0 non-null      object \n",
      " 9   expanded_urls               2094 non-null   object \n",
      " 10  rating_numerator            2097 non-null   int64  \n",
      " 11  rating_denominator          2097 non-null   int64  \n",
      " 12  name                        2097 non-null   object \n",
      " 13  doggo                       2097 non-null   object \n",
      " 14  floofer                     2097 non-null   object \n",
      " 15  pupper                      2097 non-null   object \n",
      " 16  puppo                       2097 non-null   object \n",
      "dtypes: float64(4), int64(3), object(10)\n",
      "memory usage: 294.9+ KB\n"
     ]
    }
   ],
   "source": [
    "twitter_arch.info()"
   ]
  },
  {
   "cell_type": "markdown",
   "id": "dcdf8d5d",
   "metadata": {},
   "source": [
    "### def: Missing values in Columns"
   ]
  },
  {
   "cell_type": "markdown",
   "id": "467b6581",
   "metadata": {},
   "source": [
    "### code"
   ]
  },
  {
   "cell_type": "code",
   "execution_count": 201,
   "id": "d01bf7ab",
   "metadata": {},
   "outputs": [],
   "source": [
    "#Taking out the empty columns\n",
    "columns = ['in_reply_to_status_id', 'in_reply_to_user_id', 'retweeted_status_id', 'retweeted_status_user_id','retweeted_status_timestamp']\n",
    "drop_row_col(twitter_arch, columns, axis=1)"
   ]
  },
  {
   "cell_type": "markdown",
   "id": "a78dfd79",
   "metadata": {},
   "source": [
    "### Test"
   ]
  },
  {
   "cell_type": "code",
   "execution_count": 202,
   "id": "3fcce61a",
   "metadata": {},
   "outputs": [
    {
     "name": "stdout",
     "output_type": "stream",
     "text": [
      "<class 'pandas.core.frame.DataFrame'>\n",
      "Int64Index: 2097 entries, 0 to 2355\n",
      "Data columns (total 12 columns):\n",
      " #   Column              Non-Null Count  Dtype \n",
      "---  ------              --------------  ----- \n",
      " 0   tweet_id            2097 non-null   int64 \n",
      " 1   timestamp           2097 non-null   object\n",
      " 2   source              2097 non-null   object\n",
      " 3   text                2097 non-null   object\n",
      " 4   expanded_urls       2094 non-null   object\n",
      " 5   rating_numerator    2097 non-null   int64 \n",
      " 6   rating_denominator  2097 non-null   int64 \n",
      " 7   name                2097 non-null   object\n",
      " 8   doggo               2097 non-null   object\n",
      " 9   floofer             2097 non-null   object\n",
      " 10  pupper              2097 non-null   object\n",
      " 11  puppo               2097 non-null   object\n",
      "dtypes: int64(3), object(9)\n",
      "memory usage: 213.0+ KB\n"
     ]
    }
   ],
   "source": [
    "twitter_arch.info()"
   ]
  },
  {
   "cell_type": "markdown",
   "id": "50dbae2a",
   "metadata": {},
   "source": [
    "### def: timestamp should be in datetime datatype"
   ]
  },
  {
   "cell_type": "markdown",
   "id": "f4369860",
   "metadata": {},
   "source": [
    "### code"
   ]
  },
  {
   "cell_type": "code",
   "execution_count": 203,
   "id": "b78c8f27",
   "metadata": {},
   "outputs": [],
   "source": [
    "#Converting timestamp datatype to datatime\n",
    "twitter_arch['timestamp'] = pd.to_datetime(twitter_arch['timestamp'])"
   ]
  },
  {
   "cell_type": "markdown",
   "id": "fb492e29",
   "metadata": {},
   "source": [
    "### Test"
   ]
  },
  {
   "cell_type": "code",
   "execution_count": 204,
   "id": "9c67569d",
   "metadata": {},
   "outputs": [
    {
     "name": "stdout",
     "output_type": "stream",
     "text": [
      "<class 'pandas.core.frame.DataFrame'>\n",
      "Int64Index: 2097 entries, 0 to 2355\n",
      "Data columns (total 12 columns):\n",
      " #   Column              Non-Null Count  Dtype              \n",
      "---  ------              --------------  -----              \n",
      " 0   tweet_id            2097 non-null   int64              \n",
      " 1   timestamp           2097 non-null   datetime64[ns, UTC]\n",
      " 2   source              2097 non-null   object             \n",
      " 3   text                2097 non-null   object             \n",
      " 4   expanded_urls       2094 non-null   object             \n",
      " 5   rating_numerator    2097 non-null   int64              \n",
      " 6   rating_denominator  2097 non-null   int64              \n",
      " 7   name                2097 non-null   object             \n",
      " 8   doggo               2097 non-null   object             \n",
      " 9   floofer             2097 non-null   object             \n",
      " 10  pupper              2097 non-null   object             \n",
      " 11  puppo               2097 non-null   object             \n",
      "dtypes: datetime64[ns, UTC](1), int64(3), object(8)\n",
      "memory usage: 213.0+ KB\n"
     ]
    }
   ],
   "source": [
    "twitter_arch.info()"
   ]
  },
  {
   "cell_type": "markdown",
   "id": "2c18d6fb",
   "metadata": {},
   "source": [
    "### def: Source column includes some html code"
   ]
  },
  {
   "cell_type": "markdown",
   "id": "ac5f9d47",
   "metadata": {},
   "source": [
    "### code"
   ]
  },
  {
   "cell_type": "code",
   "execution_count": 205,
   "id": "3822bded",
   "metadata": {},
   "outputs": [
    {
     "data": {
      "text/plain": [
       "<a href=\"http://twitter.com/download/iphone\" rel=\"nofollow\">Twitter for iPhone</a>     1964\n",
       "<a href=\"http://vine.co\" rel=\"nofollow\">Vine - Make a Scene</a>                          91\n",
       "<a href=\"http://twitter.com\" rel=\"nofollow\">Twitter Web Client</a>                       31\n",
       "<a href=\"https://about.twitter.com/products/tweetdeck\" rel=\"nofollow\">TweetDeck</a>      11\n",
       "Name: source, dtype: int64"
      ]
     },
     "execution_count": 205,
     "metadata": {},
     "output_type": "execute_result"
    }
   ],
   "source": [
    "twitter_arch.source.value_counts()"
   ]
  },
  {
   "cell_type": "code",
   "execution_count": 206,
   "id": "549da777",
   "metadata": {},
   "outputs": [],
   "source": [
    "twitter_arch['source'] = twitter_arch['source'].str.extract('^<a.+>(.+)</a>$')"
   ]
  },
  {
   "cell_type": "code",
   "execution_count": 207,
   "id": "40f124ea",
   "metadata": {},
   "outputs": [
    {
     "data": {
      "text/plain": [
       "Twitter for iPhone     1964\n",
       "Vine - Make a Scene      91\n",
       "Twitter Web Client       31\n",
       "TweetDeck                11\n",
       "Name: source, dtype: int64"
      ]
     },
     "execution_count": 207,
     "metadata": {},
     "output_type": "execute_result"
    }
   ],
   "source": [
    "twitter_arch.source.value_counts()"
   ]
  },
  {
   "cell_type": "markdown",
   "id": "82e7c488",
   "metadata": {},
   "source": [
    "### Test"
   ]
  },
  {
   "cell_type": "code",
   "execution_count": 208,
   "id": "f1d719bc",
   "metadata": {},
   "outputs": [
    {
     "name": "stdout",
     "output_type": "stream",
     "text": [
      "<class 'pandas.core.frame.DataFrame'>\n",
      "Int64Index: 2097 entries, 0 to 2355\n",
      "Data columns (total 12 columns):\n",
      " #   Column              Non-Null Count  Dtype              \n",
      "---  ------              --------------  -----              \n",
      " 0   tweet_id            2097 non-null   int64              \n",
      " 1   timestamp           2097 non-null   datetime64[ns, UTC]\n",
      " 2   source              2097 non-null   object             \n",
      " 3   text                2097 non-null   object             \n",
      " 4   expanded_urls       2094 non-null   object             \n",
      " 5   rating_numerator    2097 non-null   int64              \n",
      " 6   rating_denominator  2097 non-null   int64              \n",
      " 7   name                2097 non-null   object             \n",
      " 8   doggo               2097 non-null   object             \n",
      " 9   floofer             2097 non-null   object             \n",
      " 10  pupper              2097 non-null   object             \n",
      " 11  puppo               2097 non-null   object             \n",
      "dtypes: datetime64[ns, UTC](1), int64(3), object(8)\n",
      "memory usage: 213.0+ KB\n"
     ]
    }
   ],
   "source": [
    "twitter_arch.info()"
   ]
  },
  {
   "cell_type": "markdown",
   "id": "11651e36",
   "metadata": {},
   "source": [
    "### def: extract numerator from text column"
   ]
  },
  {
   "cell_type": "markdown",
   "id": "8fe359f2",
   "metadata": {},
   "source": [
    "### code"
   ]
  },
  {
   "cell_type": "code",
   "execution_count": 209,
   "id": "0b8958cb",
   "metadata": {},
   "outputs": [],
   "source": [
    "twitter_arch['rating_numerator'] = twitter_arch['text'].str.extract('(\\d+\\.*\\d*\\/\\d+)', expand=False).str.split('/').str[0]"
   ]
  },
  {
   "cell_type": "markdown",
   "id": "a10e09c2",
   "metadata": {},
   "source": [
    "### Test"
   ]
  },
  {
   "cell_type": "code",
   "execution_count": 210,
   "id": "a4a1d627",
   "metadata": {},
   "outputs": [
    {
     "data": {
      "text/html": [
       "<div>\n",
       "<style scoped>\n",
       "    .dataframe tbody tr th:only-of-type {\n",
       "        vertical-align: middle;\n",
       "    }\n",
       "\n",
       "    .dataframe tbody tr th {\n",
       "        vertical-align: top;\n",
       "    }\n",
       "\n",
       "    .dataframe thead th {\n",
       "        text-align: right;\n",
       "    }\n",
       "</style>\n",
       "<table border=\"1\" class=\"dataframe\">\n",
       "  <thead>\n",
       "    <tr style=\"text-align: right;\">\n",
       "      <th></th>\n",
       "      <th>rating_numerator</th>\n",
       "      <th>rating_denominator</th>\n",
       "    </tr>\n",
       "  </thead>\n",
       "  <tbody>\n",
       "    <tr>\n",
       "      <th>0</th>\n",
       "      <td>13</td>\n",
       "      <td>10</td>\n",
       "    </tr>\n",
       "    <tr>\n",
       "      <th>1</th>\n",
       "      <td>13</td>\n",
       "      <td>10</td>\n",
       "    </tr>\n",
       "    <tr>\n",
       "      <th>2</th>\n",
       "      <td>12</td>\n",
       "      <td>10</td>\n",
       "    </tr>\n",
       "    <tr>\n",
       "      <th>3</th>\n",
       "      <td>13</td>\n",
       "      <td>10</td>\n",
       "    </tr>\n",
       "    <tr>\n",
       "      <th>4</th>\n",
       "      <td>12</td>\n",
       "      <td>10</td>\n",
       "    </tr>\n",
       "    <tr>\n",
       "      <th>...</th>\n",
       "      <td>...</td>\n",
       "      <td>...</td>\n",
       "    </tr>\n",
       "    <tr>\n",
       "      <th>2351</th>\n",
       "      <td>5</td>\n",
       "      <td>10</td>\n",
       "    </tr>\n",
       "    <tr>\n",
       "      <th>2352</th>\n",
       "      <td>6</td>\n",
       "      <td>10</td>\n",
       "    </tr>\n",
       "    <tr>\n",
       "      <th>2353</th>\n",
       "      <td>9</td>\n",
       "      <td>10</td>\n",
       "    </tr>\n",
       "    <tr>\n",
       "      <th>2354</th>\n",
       "      <td>7</td>\n",
       "      <td>10</td>\n",
       "    </tr>\n",
       "    <tr>\n",
       "      <th>2355</th>\n",
       "      <td>8</td>\n",
       "      <td>10</td>\n",
       "    </tr>\n",
       "  </tbody>\n",
       "</table>\n",
       "<p>2097 rows × 2 columns</p>\n",
       "</div>"
      ],
      "text/plain": [
       "     rating_numerator  rating_denominator\n",
       "0                  13                  10\n",
       "1                  13                  10\n",
       "2                  12                  10\n",
       "3                  13                  10\n",
       "4                  12                  10\n",
       "...               ...                 ...\n",
       "2351                5                  10\n",
       "2352                6                  10\n",
       "2353                9                  10\n",
       "2354                7                  10\n",
       "2355                8                  10\n",
       "\n",
       "[2097 rows x 2 columns]"
      ]
     },
     "execution_count": 210,
     "metadata": {},
     "output_type": "execute_result"
    }
   ],
   "source": [
    "twitter_arch[['rating_numerator', 'rating_denominator']]"
   ]
  },
  {
   "cell_type": "markdown",
   "id": "b99806e8",
   "metadata": {},
   "source": [
    "### def: The names of dogs in columns p1, p2, and p3 have both uppercase and lowercase letters in the image prediction table"
   ]
  },
  {
   "cell_type": "markdown",
   "id": "f238ac8e",
   "metadata": {},
   "source": [
    "### code"
   ]
  },
  {
   "cell_type": "code",
   "execution_count": 211,
   "id": "60a5b3a2",
   "metadata": {},
   "outputs": [],
   "source": [
    "image_pred['p1'] = image_pred['p1'].str.lower()\n",
    "image_pred['p2'] = image_pred['p2'].str.lower()\n",
    "image_pred['p3'] = image_pred['p3'].str.lower()"
   ]
  },
  {
   "cell_type": "markdown",
   "id": "920634d9",
   "metadata": {},
   "source": [
    "### Test"
   ]
  },
  {
   "cell_type": "code",
   "execution_count": 212,
   "id": "2094cc6f",
   "metadata": {},
   "outputs": [
    {
     "data": {
      "text/html": [
       "<div>\n",
       "<style scoped>\n",
       "    .dataframe tbody tr th:only-of-type {\n",
       "        vertical-align: middle;\n",
       "    }\n",
       "\n",
       "    .dataframe tbody tr th {\n",
       "        vertical-align: top;\n",
       "    }\n",
       "\n",
       "    .dataframe thead th {\n",
       "        text-align: right;\n",
       "    }\n",
       "</style>\n",
       "<table border=\"1\" class=\"dataframe\">\n",
       "  <thead>\n",
       "    <tr style=\"text-align: right;\">\n",
       "      <th></th>\n",
       "      <th>tweet_id</th>\n",
       "      <th>jpg_url</th>\n",
       "      <th>img_num</th>\n",
       "      <th>p1</th>\n",
       "      <th>p1_conf</th>\n",
       "      <th>p1_dog</th>\n",
       "      <th>p2</th>\n",
       "      <th>p2_conf</th>\n",
       "      <th>p2_dog</th>\n",
       "      <th>p3</th>\n",
       "      <th>p3_conf</th>\n",
       "      <th>p3_dog</th>\n",
       "    </tr>\n",
       "  </thead>\n",
       "  <tbody>\n",
       "    <tr>\n",
       "      <th>897</th>\n",
       "      <td>699775878809702401</td>\n",
       "      <td>https://pbs.twimg.com/media/CbYac83W4AAUH1O.jpg</td>\n",
       "      <td>1</td>\n",
       "      <td>dandie_dinmont</td>\n",
       "      <td>0.271683</td>\n",
       "      <td>True</td>\n",
       "      <td>old_english_sheepdog</td>\n",
       "      <td>0.164931</td>\n",
       "      <td>True</td>\n",
       "      <td>otterhound</td>\n",
       "      <td>0.105918</td>\n",
       "      <td>True</td>\n",
       "    </tr>\n",
       "    <tr>\n",
       "      <th>528</th>\n",
       "      <td>676776431406465024</td>\n",
       "      <td>https://pbs.twimg.com/ext_tw_video_thumb/67677...</td>\n",
       "      <td>1</td>\n",
       "      <td>doormat</td>\n",
       "      <td>0.201346</td>\n",
       "      <td>False</td>\n",
       "      <td>dishwasher</td>\n",
       "      <td>0.191749</td>\n",
       "      <td>False</td>\n",
       "      <td>microwave</td>\n",
       "      <td>0.038110</td>\n",
       "      <td>False</td>\n",
       "    </tr>\n",
       "    <tr>\n",
       "      <th>1693</th>\n",
       "      <td>816014286006976512</td>\n",
       "      <td>https://pbs.twimg.com/media/CiibOMzUYAA9Mxz.jpg</td>\n",
       "      <td>1</td>\n",
       "      <td>english_setter</td>\n",
       "      <td>0.677408</td>\n",
       "      <td>True</td>\n",
       "      <td>border_collie</td>\n",
       "      <td>0.052724</td>\n",
       "      <td>True</td>\n",
       "      <td>cocker_spaniel</td>\n",
       "      <td>0.048572</td>\n",
       "      <td>True</td>\n",
       "    </tr>\n",
       "    <tr>\n",
       "      <th>1207</th>\n",
       "      <td>742161199639494656</td>\n",
       "      <td>https://pbs.twimg.com/media/CkyvqnNWYAQxQY1.jpg</td>\n",
       "      <td>1</td>\n",
       "      <td>balloon</td>\n",
       "      <td>0.990736</td>\n",
       "      <td>False</td>\n",
       "      <td>punching_bag</td>\n",
       "      <td>0.004754</td>\n",
       "      <td>False</td>\n",
       "      <td>parachute</td>\n",
       "      <td>0.000436</td>\n",
       "      <td>False</td>\n",
       "    </tr>\n",
       "    <tr>\n",
       "      <th>459</th>\n",
       "      <td>674790488185167872</td>\n",
       "      <td>https://pbs.twimg.com/media/CV1WXsmWcAAgQ56.jpg</td>\n",
       "      <td>1</td>\n",
       "      <td>labrador_retriever</td>\n",
       "      <td>0.801903</td>\n",
       "      <td>True</td>\n",
       "      <td>chesapeake_bay_retriever</td>\n",
       "      <td>0.193575</td>\n",
       "      <td>True</td>\n",
       "      <td>rottweiler</td>\n",
       "      <td>0.001193</td>\n",
       "      <td>True</td>\n",
       "    </tr>\n",
       "    <tr>\n",
       "      <th>2026</th>\n",
       "      <td>882045870035918850</td>\n",
       "      <td>https://pbs.twimg.com/media/DD2oCl2WAAEI_4a.jpg</td>\n",
       "      <td>1</td>\n",
       "      <td>web_site</td>\n",
       "      <td>0.949591</td>\n",
       "      <td>False</td>\n",
       "      <td>dhole</td>\n",
       "      <td>0.017326</td>\n",
       "      <td>False</td>\n",
       "      <td>golden_retriever</td>\n",
       "      <td>0.006941</td>\n",
       "      <td>True</td>\n",
       "    </tr>\n",
       "    <tr>\n",
       "      <th>15</th>\n",
       "      <td>666099513787052032</td>\n",
       "      <td>https://pbs.twimg.com/media/CT51-JJUEAA6hV8.jpg</td>\n",
       "      <td>1</td>\n",
       "      <td>lhasa</td>\n",
       "      <td>0.582330</td>\n",
       "      <td>True</td>\n",
       "      <td>shih-tzu</td>\n",
       "      <td>0.166192</td>\n",
       "      <td>True</td>\n",
       "      <td>dandie_dinmont</td>\n",
       "      <td>0.089688</td>\n",
       "      <td>True</td>\n",
       "    </tr>\n",
       "    <tr>\n",
       "      <th>1794</th>\n",
       "      <td>831309418084069378</td>\n",
       "      <td>https://pbs.twimg.com/media/C4lngK5VUAEVrNO.jpg</td>\n",
       "      <td>1</td>\n",
       "      <td>doberman</td>\n",
       "      <td>0.369389</td>\n",
       "      <td>True</td>\n",
       "      <td>kelpie</td>\n",
       "      <td>0.132449</td>\n",
       "      <td>True</td>\n",
       "      <td>labrador_retriever</td>\n",
       "      <td>0.074727</td>\n",
       "      <td>True</td>\n",
       "    </tr>\n",
       "    <tr>\n",
       "      <th>1039</th>\n",
       "      <td>712085617388212225</td>\n",
       "      <td>https://pbs.twimg.com/media/CeHWFksXIAAyypp.jpg</td>\n",
       "      <td>2</td>\n",
       "      <td>shih-tzu</td>\n",
       "      <td>0.625129</td>\n",
       "      <td>True</td>\n",
       "      <td>tibetan_terrier</td>\n",
       "      <td>0.126897</td>\n",
       "      <td>True</td>\n",
       "      <td>lhasa</td>\n",
       "      <td>0.119663</td>\n",
       "      <td>True</td>\n",
       "    </tr>\n",
       "    <tr>\n",
       "      <th>1742</th>\n",
       "      <td>822647212903690241</td>\n",
       "      <td>https://pbs.twimg.com/media/C2oRbOuWEAAbVSl.jpg</td>\n",
       "      <td>1</td>\n",
       "      <td>samoyed</td>\n",
       "      <td>0.416769</td>\n",
       "      <td>True</td>\n",
       "      <td>malamute</td>\n",
       "      <td>0.252706</td>\n",
       "      <td>True</td>\n",
       "      <td>kuvasz</td>\n",
       "      <td>0.157028</td>\n",
       "      <td>True</td>\n",
       "    </tr>\n",
       "  </tbody>\n",
       "</table>\n",
       "</div>"
      ],
      "text/plain": [
       "                tweet_id                                            jpg_url  \\\n",
       "897   699775878809702401    https://pbs.twimg.com/media/CbYac83W4AAUH1O.jpg   \n",
       "528   676776431406465024  https://pbs.twimg.com/ext_tw_video_thumb/67677...   \n",
       "1693  816014286006976512    https://pbs.twimg.com/media/CiibOMzUYAA9Mxz.jpg   \n",
       "1207  742161199639494656    https://pbs.twimg.com/media/CkyvqnNWYAQxQY1.jpg   \n",
       "459   674790488185167872    https://pbs.twimg.com/media/CV1WXsmWcAAgQ56.jpg   \n",
       "2026  882045870035918850    https://pbs.twimg.com/media/DD2oCl2WAAEI_4a.jpg   \n",
       "15    666099513787052032    https://pbs.twimg.com/media/CT51-JJUEAA6hV8.jpg   \n",
       "1794  831309418084069378    https://pbs.twimg.com/media/C4lngK5VUAEVrNO.jpg   \n",
       "1039  712085617388212225    https://pbs.twimg.com/media/CeHWFksXIAAyypp.jpg   \n",
       "1742  822647212903690241    https://pbs.twimg.com/media/C2oRbOuWEAAbVSl.jpg   \n",
       "\n",
       "      img_num                  p1   p1_conf  p1_dog                        p2  \\\n",
       "897         1      dandie_dinmont  0.271683    True      old_english_sheepdog   \n",
       "528         1             doormat  0.201346   False                dishwasher   \n",
       "1693        1      english_setter  0.677408    True             border_collie   \n",
       "1207        1             balloon  0.990736   False              punching_bag   \n",
       "459         1  labrador_retriever  0.801903    True  chesapeake_bay_retriever   \n",
       "2026        1            web_site  0.949591   False                     dhole   \n",
       "15          1               lhasa  0.582330    True                  shih-tzu   \n",
       "1794        1            doberman  0.369389    True                    kelpie   \n",
       "1039        2            shih-tzu  0.625129    True           tibetan_terrier   \n",
       "1742        1             samoyed  0.416769    True                  malamute   \n",
       "\n",
       "       p2_conf  p2_dog                  p3   p3_conf  p3_dog  \n",
       "897   0.164931    True          otterhound  0.105918    True  \n",
       "528   0.191749   False           microwave  0.038110   False  \n",
       "1693  0.052724    True      cocker_spaniel  0.048572    True  \n",
       "1207  0.004754   False           parachute  0.000436   False  \n",
       "459   0.193575    True          rottweiler  0.001193    True  \n",
       "2026  0.017326   False    golden_retriever  0.006941    True  \n",
       "15    0.166192    True      dandie_dinmont  0.089688    True  \n",
       "1794  0.132449    True  labrador_retriever  0.074727    True  \n",
       "1039  0.126897    True               lhasa  0.119663    True  \n",
       "1742  0.252706    True              kuvasz  0.157028    True  "
      ]
     },
     "execution_count": 212,
     "metadata": {},
     "output_type": "execute_result"
    }
   ],
   "source": [
    "image_pred.sample(10)"
   ]
  },
  {
   "cell_type": "markdown",
   "id": "1f0e5595",
   "metadata": {},
   "source": [
    "### def: Drops rows with duplicates in the jpg_url column"
   ]
  },
  {
   "cell_type": "markdown",
   "id": "48792949",
   "metadata": {},
   "source": [
    "### code"
   ]
  },
  {
   "cell_type": "code",
   "execution_count": 213,
   "id": "6d74b25b",
   "metadata": {},
   "outputs": [
    {
     "data": {
      "text/plain": [
       "66"
      ]
     },
     "execution_count": 213,
     "metadata": {},
     "output_type": "execute_result"
    }
   ],
   "source": [
    "image_pred.jpg_url.duplicated().sum()"
   ]
  },
  {
   "cell_type": "code",
   "execution_count": 214,
   "id": "a8ac6387",
   "metadata": {},
   "outputs": [],
   "source": [
    "image_pred = image_pred.drop_duplicates('jpg_url')"
   ]
  },
  {
   "cell_type": "markdown",
   "id": "4e8ed2a0",
   "metadata": {},
   "source": [
    "### Test"
   ]
  },
  {
   "cell_type": "code",
   "execution_count": 215,
   "id": "4cf49095",
   "metadata": {},
   "outputs": [
    {
     "data": {
      "text/plain": [
       "0"
      ]
     },
     "execution_count": 215,
     "metadata": {},
     "output_type": "execute_result"
    }
   ],
   "source": [
    "image_pred.jpg_url.duplicated().sum()"
   ]
  },
  {
   "cell_type": "markdown",
   "id": "d381a15e",
   "metadata": {},
   "source": [
    "### def: rename id in the tweets df as tweets_id"
   ]
  },
  {
   "cell_type": "markdown",
   "id": "1a3eae8b",
   "metadata": {},
   "source": [
    "### code"
   ]
  },
  {
   "cell_type": "code",
   "execution_count": 216,
   "id": "69ae6f0e",
   "metadata": {},
   "outputs": [],
   "source": [
    "df3 = df3.rename(columns = {'id':'tweet_id'})"
   ]
  },
  {
   "cell_type": "markdown",
   "id": "52f22b1b",
   "metadata": {},
   "source": [
    "### Test"
   ]
  },
  {
   "cell_type": "code",
   "execution_count": 217,
   "id": "a544fff3",
   "metadata": {},
   "outputs": [
    {
     "data": {
      "text/html": [
       "<div>\n",
       "<style scoped>\n",
       "    .dataframe tbody tr th:only-of-type {\n",
       "        vertical-align: middle;\n",
       "    }\n",
       "\n",
       "    .dataframe tbody tr th {\n",
       "        vertical-align: top;\n",
       "    }\n",
       "\n",
       "    .dataframe thead th {\n",
       "        text-align: right;\n",
       "    }\n",
       "</style>\n",
       "<table border=\"1\" class=\"dataframe\">\n",
       "  <thead>\n",
       "    <tr style=\"text-align: right;\">\n",
       "      <th></th>\n",
       "      <th>tweet_id</th>\n",
       "      <th>retweet_count</th>\n",
       "      <th>favorite_count</th>\n",
       "    </tr>\n",
       "  </thead>\n",
       "  <tbody>\n",
       "    <tr>\n",
       "      <th>1895</th>\n",
       "      <td>674737130913071104</td>\n",
       "      <td>103</td>\n",
       "      <td>693</td>\n",
       "    </tr>\n",
       "    <tr>\n",
       "      <th>973</th>\n",
       "      <td>750041628174217216</td>\n",
       "      <td>703</td>\n",
       "      <td>3502</td>\n",
       "    </tr>\n",
       "    <tr>\n",
       "      <th>1817</th>\n",
       "      <td>676590572941893632</td>\n",
       "      <td>142</td>\n",
       "      <td>1001</td>\n",
       "    </tr>\n",
       "    <tr>\n",
       "      <th>2302</th>\n",
       "      <td>666983947667116034</td>\n",
       "      <td>1040</td>\n",
       "      <td>2679</td>\n",
       "    </tr>\n",
       "    <tr>\n",
       "      <th>510</th>\n",
       "      <td>811985624773361665</td>\n",
       "      <td>1647</td>\n",
       "      <td>8102</td>\n",
       "    </tr>\n",
       "    <tr>\n",
       "      <th>373</th>\n",
       "      <td>828372645993398273</td>\n",
       "      <td>3344</td>\n",
       "      <td>13756</td>\n",
       "    </tr>\n",
       "    <tr>\n",
       "      <th>1356</th>\n",
       "      <td>703382836347330562</td>\n",
       "      <td>1285</td>\n",
       "      <td>3837</td>\n",
       "    </tr>\n",
       "  </tbody>\n",
       "</table>\n",
       "</div>"
      ],
      "text/plain": [
       "                tweet_id  retweet_count  favorite_count\n",
       "1895  674737130913071104            103             693\n",
       "973   750041628174217216            703            3502\n",
       "1817  676590572941893632            142            1001\n",
       "2302  666983947667116034           1040            2679\n",
       "510   811985624773361665           1647            8102\n",
       "373   828372645993398273           3344           13756\n",
       "1356  703382836347330562           1285            3837"
      ]
     },
     "execution_count": 217,
     "metadata": {},
     "output_type": "execute_result"
    }
   ],
   "source": [
    "df3.sample(7)"
   ]
  },
  {
   "cell_type": "markdown",
   "id": "d16bd907",
   "metadata": {},
   "source": [
    "## Tidiness"
   ]
  },
  {
   "cell_type": "markdown",
   "id": "1f3aab0d",
   "metadata": {},
   "source": [
    "### def: Join 'tweet_info' and 'image_predictions' to 'twitter_archive'"
   ]
  },
  {
   "cell_type": "markdown",
   "id": "78acd814",
   "metadata": {},
   "source": [
    "### code"
   ]
  },
  {
   "cell_type": "code",
   "execution_count": 218,
   "id": "7b565920",
   "metadata": {},
   "outputs": [
    {
     "name": "stdout",
     "output_type": "stream",
     "text": [
      "<class 'pandas.core.frame.DataFrame'>\n",
      "Int64Index: 2097 entries, 0 to 2096\n",
      "Data columns (total 14 columns):\n",
      " #   Column              Non-Null Count  Dtype              \n",
      "---  ------              --------------  -----              \n",
      " 0   tweet_id            2097 non-null   int64              \n",
      " 1   timestamp           2097 non-null   datetime64[ns, UTC]\n",
      " 2   source              2097 non-null   object             \n",
      " 3   text                2097 non-null   object             \n",
      " 4   expanded_urls       2094 non-null   object             \n",
      " 5   rating_numerator    2097 non-null   object             \n",
      " 6   rating_denominator  2097 non-null   int64              \n",
      " 7   name                2097 non-null   object             \n",
      " 8   doggo               2097 non-null   object             \n",
      " 9   floofer             2097 non-null   object             \n",
      " 10  pupper              2097 non-null   object             \n",
      " 11  puppo               2097 non-null   object             \n",
      " 12  retweet_count       2097 non-null   int64              \n",
      " 13  favorite_count      2097 non-null   int64              \n",
      "dtypes: datetime64[ns, UTC](1), int64(4), object(9)\n",
      "memory usage: 245.7+ KB\n"
     ]
    }
   ],
   "source": [
    "#combining the twitter_arch dataset with df3 using 'tweet_id' that they have in  common\n",
    "combine =pd.merge(twitter_arch, df3, on = 'tweet_id', how = 'left')\n",
    "combine.info()"
   ]
  },
  {
   "cell_type": "code",
   "execution_count": 219,
   "id": "477114fe",
   "metadata": {},
   "outputs": [
    {
     "data": {
      "text/plain": [
       "Index(['tweet_id', 'timestamp', 'source', 'text', 'expanded_urls',\n",
       "       'rating_numerator', 'rating_denominator', 'name', 'doggo', 'floofer',\n",
       "       'pupper', 'puppo', 'retweet_count', 'favorite_count', 'jpg_url',\n",
       "       'img_num', 'p1', 'p1_conf', 'p1_dog', 'p2', 'p2_conf', 'p2_dog', 'p3',\n",
       "       'p3_conf', 'p3_dog'],\n",
       "      dtype='object')"
      ]
     },
     "execution_count": 219,
     "metadata": {},
     "output_type": "execute_result"
    }
   ],
   "source": [
    "#Merging combine data set with image_pred into one dataframe\n",
    "combine_arch = pd.merge(combine, image_pred, on = 'tweet_id', how = 'inner')\n",
    "combine_arch.columns"
   ]
  },
  {
   "cell_type": "markdown",
   "id": "4ca893b7",
   "metadata": {},
   "source": [
    "### Test"
   ]
  },
  {
   "cell_type": "code",
   "execution_count": 220,
   "id": "3ac2927c",
   "metadata": {},
   "outputs": [
    {
     "name": "stdout",
     "output_type": "stream",
     "text": [
      "<class 'pandas.core.frame.DataFrame'>\n",
      "Int64Index: 1971 entries, 0 to 1970\n",
      "Data columns (total 25 columns):\n",
      " #   Column              Non-Null Count  Dtype              \n",
      "---  ------              --------------  -----              \n",
      " 0   tweet_id            1971 non-null   int64              \n",
      " 1   timestamp           1971 non-null   datetime64[ns, UTC]\n",
      " 2   source              1971 non-null   object             \n",
      " 3   text                1971 non-null   object             \n",
      " 4   expanded_urls       1971 non-null   object             \n",
      " 5   rating_numerator    1971 non-null   object             \n",
      " 6   rating_denominator  1971 non-null   int64              \n",
      " 7   name                1971 non-null   object             \n",
      " 8   doggo               1971 non-null   object             \n",
      " 9   floofer             1971 non-null   object             \n",
      " 10  pupper              1971 non-null   object             \n",
      " 11  puppo               1971 non-null   object             \n",
      " 12  retweet_count       1971 non-null   int64              \n",
      " 13  favorite_count      1971 non-null   int64              \n",
      " 14  jpg_url             1971 non-null   object             \n",
      " 15  img_num             1971 non-null   int64              \n",
      " 16  p1                  1971 non-null   object             \n",
      " 17  p1_conf             1971 non-null   float64            \n",
      " 18  p1_dog              1971 non-null   bool               \n",
      " 19  p2                  1971 non-null   object             \n",
      " 20  p2_conf             1971 non-null   float64            \n",
      " 21  p2_dog              1971 non-null   bool               \n",
      " 22  p3                  1971 non-null   object             \n",
      " 23  p3_conf             1971 non-null   float64            \n",
      " 24  p3_dog              1971 non-null   bool               \n",
      "dtypes: bool(3), datetime64[ns, UTC](1), float64(3), int64(5), object(13)\n",
      "memory usage: 359.9+ KB\n"
     ]
    }
   ],
   "source": [
    "combine_arch.info()"
   ]
  },
  {
   "cell_type": "code",
   "execution_count": 236,
   "id": "6151ad3b",
   "metadata": {},
   "outputs": [
    {
     "data": {
      "text/plain": [
       "(1971, 22)"
      ]
     },
     "execution_count": 236,
     "metadata": {},
     "output_type": "execute_result"
    }
   ],
   "source": [
    "combine_arch.shape"
   ]
  },
  {
   "cell_type": "markdown",
   "id": "c1006c4a",
   "metadata": {},
   "source": [
    "### def: Doggo, Floofer, Pupper and Puppo should be in one row"
   ]
  },
  {
   "cell_type": "markdown",
   "id": "fd7142c9",
   "metadata": {},
   "source": [
    "### code"
   ]
  },
  {
   "cell_type": "code",
   "execution_count": 221,
   "id": "3d44a51c",
   "metadata": {},
   "outputs": [],
   "source": [
    "#Making a list for the dog stages\n",
    "dogs = ['doggo', 'puppo', 'floofer', 'pupper']"
   ]
  },
  {
   "cell_type": "code",
   "execution_count": 222,
   "id": "a6b8d521",
   "metadata": {},
   "outputs": [],
   "source": [
    "#creating a column in the combined dataset and replace none with nan\n",
    "combine_arch[dogs] = combine_arch[dogs].replace('None', np.nan)"
   ]
  },
  {
   "cell_type": "code",
   "execution_count": 223,
   "id": "83be2717",
   "metadata": {},
   "outputs": [],
   "source": [
    "def join_all(x):\n",
    "    return ','.join(x.dropna().astype(str))\n",
    "combine_arch['dogs'] = combine_arch[dogs].apply(join_all, axis=1)"
   ]
  },
  {
   "cell_type": "code",
   "execution_count": 224,
   "id": "2c29f033",
   "metadata": {},
   "outputs": [],
   "source": [
    "# replacing empty strings with nan\n",
    "combine_arch['dogs'] = combine_arch['dogs'].replace('', np.nan)"
   ]
  },
  {
   "cell_type": "code",
   "execution_count": 225,
   "id": "42fda08e",
   "metadata": {},
   "outputs": [],
   "source": [
    "#dropping the four columns doggo, puppo, floofer, pupper\n",
    "drop_row_col(combine_arch, dogs, axis=1)"
   ]
  },
  {
   "cell_type": "markdown",
   "id": "b2e05f80",
   "metadata": {},
   "source": [
    "### Test"
   ]
  },
  {
   "cell_type": "code",
   "execution_count": 226,
   "id": "ee80b45e",
   "metadata": {},
   "outputs": [
    {
     "data": {
      "text/plain": [
       "pupper           201\n",
       "doggo             63\n",
       "puppo             22\n",
       "doggo,pupper       8\n",
       "floofer            7\n",
       "doggo,puppo        1\n",
       "doggo,floofer      1\n",
       "Name: dogs, dtype: int64"
      ]
     },
     "execution_count": 226,
     "metadata": {},
     "output_type": "execute_result"
    }
   ],
   "source": [
    "combine_arch.dogs.value_counts()"
   ]
  },
  {
   "cell_type": "markdown",
   "id": "2260c9be",
   "metadata": {},
   "source": [
    "## 4. Storing Data"
   ]
  },
  {
   "cell_type": "code",
   "execution_count": 227,
   "id": "feb22e0a",
   "metadata": {},
   "outputs": [],
   "source": [
    "combine_arch.to_csv('twitter_archive_master.csv', index=False)"
   ]
  },
  {
   "cell_type": "code",
   "execution_count": 228,
   "id": "2355df9a",
   "metadata": {},
   "outputs": [
    {
     "data": {
      "text/html": [
       "<div>\n",
       "<style scoped>\n",
       "    .dataframe tbody tr th:only-of-type {\n",
       "        vertical-align: middle;\n",
       "    }\n",
       "\n",
       "    .dataframe tbody tr th {\n",
       "        vertical-align: top;\n",
       "    }\n",
       "\n",
       "    .dataframe thead th {\n",
       "        text-align: right;\n",
       "    }\n",
       "</style>\n",
       "<table border=\"1\" class=\"dataframe\">\n",
       "  <thead>\n",
       "    <tr style=\"text-align: right;\">\n",
       "      <th></th>\n",
       "      <th>tweet_id</th>\n",
       "      <th>timestamp</th>\n",
       "      <th>source</th>\n",
       "      <th>text</th>\n",
       "      <th>expanded_urls</th>\n",
       "      <th>rating_numerator</th>\n",
       "      <th>rating_denominator</th>\n",
       "      <th>name</th>\n",
       "      <th>retweet_count</th>\n",
       "      <th>favorite_count</th>\n",
       "      <th>...</th>\n",
       "      <th>p1</th>\n",
       "      <th>p1_conf</th>\n",
       "      <th>p1_dog</th>\n",
       "      <th>p2</th>\n",
       "      <th>p2_conf</th>\n",
       "      <th>p2_dog</th>\n",
       "      <th>p3</th>\n",
       "      <th>p3_conf</th>\n",
       "      <th>p3_dog</th>\n",
       "      <th>dogs</th>\n",
       "    </tr>\n",
       "  </thead>\n",
       "  <tbody>\n",
       "    <tr>\n",
       "      <th>0</th>\n",
       "      <td>892420643555336193</td>\n",
       "      <td>2017-08-01 16:23:56+00:00</td>\n",
       "      <td>Twitter for iPhone</td>\n",
       "      <td>This is Phineas. He's a mystical boy. Only eve...</td>\n",
       "      <td>https://twitter.com/dog_rates/status/892420643...</td>\n",
       "      <td>13.0</td>\n",
       "      <td>10</td>\n",
       "      <td>Phineas</td>\n",
       "      <td>8853</td>\n",
       "      <td>39467</td>\n",
       "      <td>...</td>\n",
       "      <td>orange</td>\n",
       "      <td>0.097049</td>\n",
       "      <td>False</td>\n",
       "      <td>bagel</td>\n",
       "      <td>0.085851</td>\n",
       "      <td>False</td>\n",
       "      <td>banana</td>\n",
       "      <td>0.076110</td>\n",
       "      <td>False</td>\n",
       "      <td>NaN</td>\n",
       "    </tr>\n",
       "    <tr>\n",
       "      <th>1</th>\n",
       "      <td>892177421306343426</td>\n",
       "      <td>2017-08-01 00:17:27+00:00</td>\n",
       "      <td>Twitter for iPhone</td>\n",
       "      <td>This is Tilly. She's just checking pup on you....</td>\n",
       "      <td>https://twitter.com/dog_rates/status/892177421...</td>\n",
       "      <td>13.0</td>\n",
       "      <td>10</td>\n",
       "      <td>Tilly</td>\n",
       "      <td>6514</td>\n",
       "      <td>33819</td>\n",
       "      <td>...</td>\n",
       "      <td>chihuahua</td>\n",
       "      <td>0.323581</td>\n",
       "      <td>True</td>\n",
       "      <td>pekinese</td>\n",
       "      <td>0.090647</td>\n",
       "      <td>True</td>\n",
       "      <td>papillon</td>\n",
       "      <td>0.068957</td>\n",
       "      <td>True</td>\n",
       "      <td>NaN</td>\n",
       "    </tr>\n",
       "    <tr>\n",
       "      <th>2</th>\n",
       "      <td>891815181378084864</td>\n",
       "      <td>2017-07-31 00:18:03+00:00</td>\n",
       "      <td>Twitter for iPhone</td>\n",
       "      <td>This is Archie. He is a rare Norwegian Pouncin...</td>\n",
       "      <td>https://twitter.com/dog_rates/status/891815181...</td>\n",
       "      <td>12.0</td>\n",
       "      <td>10</td>\n",
       "      <td>Archie</td>\n",
       "      <td>4328</td>\n",
       "      <td>25461</td>\n",
       "      <td>...</td>\n",
       "      <td>chihuahua</td>\n",
       "      <td>0.716012</td>\n",
       "      <td>True</td>\n",
       "      <td>malamute</td>\n",
       "      <td>0.078253</td>\n",
       "      <td>True</td>\n",
       "      <td>kelpie</td>\n",
       "      <td>0.031379</td>\n",
       "      <td>True</td>\n",
       "      <td>NaN</td>\n",
       "    </tr>\n",
       "    <tr>\n",
       "      <th>3</th>\n",
       "      <td>891689557279858688</td>\n",
       "      <td>2017-07-30 15:58:51+00:00</td>\n",
       "      <td>Twitter for iPhone</td>\n",
       "      <td>This is Darla. She commenced a snooze mid meal...</td>\n",
       "      <td>https://twitter.com/dog_rates/status/891689557...</td>\n",
       "      <td>13.0</td>\n",
       "      <td>10</td>\n",
       "      <td>Darla</td>\n",
       "      <td>8964</td>\n",
       "      <td>42908</td>\n",
       "      <td>...</td>\n",
       "      <td>paper_towel</td>\n",
       "      <td>0.170278</td>\n",
       "      <td>False</td>\n",
       "      <td>labrador_retriever</td>\n",
       "      <td>0.168086</td>\n",
       "      <td>True</td>\n",
       "      <td>spatula</td>\n",
       "      <td>0.040836</td>\n",
       "      <td>False</td>\n",
       "      <td>NaN</td>\n",
       "    </tr>\n",
       "    <tr>\n",
       "      <th>4</th>\n",
       "      <td>891327558926688256</td>\n",
       "      <td>2017-07-29 16:00:24+00:00</td>\n",
       "      <td>Twitter for iPhone</td>\n",
       "      <td>This is Franklin. He would like you to stop ca...</td>\n",
       "      <td>https://twitter.com/dog_rates/status/891327558...</td>\n",
       "      <td>12.0</td>\n",
       "      <td>10</td>\n",
       "      <td>Franklin</td>\n",
       "      <td>9774</td>\n",
       "      <td>41048</td>\n",
       "      <td>...</td>\n",
       "      <td>basset</td>\n",
       "      <td>0.555712</td>\n",
       "      <td>True</td>\n",
       "      <td>english_springer</td>\n",
       "      <td>0.225770</td>\n",
       "      <td>True</td>\n",
       "      <td>german_short-haired_pointer</td>\n",
       "      <td>0.175219</td>\n",
       "      <td>True</td>\n",
       "      <td>NaN</td>\n",
       "    </tr>\n",
       "  </tbody>\n",
       "</table>\n",
       "<p>5 rows × 22 columns</p>\n",
       "</div>"
      ],
      "text/plain": [
       "             tweet_id                  timestamp              source  \\\n",
       "0  892420643555336193  2017-08-01 16:23:56+00:00  Twitter for iPhone   \n",
       "1  892177421306343426  2017-08-01 00:17:27+00:00  Twitter for iPhone   \n",
       "2  891815181378084864  2017-07-31 00:18:03+00:00  Twitter for iPhone   \n",
       "3  891689557279858688  2017-07-30 15:58:51+00:00  Twitter for iPhone   \n",
       "4  891327558926688256  2017-07-29 16:00:24+00:00  Twitter for iPhone   \n",
       "\n",
       "                                                text  \\\n",
       "0  This is Phineas. He's a mystical boy. Only eve...   \n",
       "1  This is Tilly. She's just checking pup on you....   \n",
       "2  This is Archie. He is a rare Norwegian Pouncin...   \n",
       "3  This is Darla. She commenced a snooze mid meal...   \n",
       "4  This is Franklin. He would like you to stop ca...   \n",
       "\n",
       "                                       expanded_urls  rating_numerator  \\\n",
       "0  https://twitter.com/dog_rates/status/892420643...              13.0   \n",
       "1  https://twitter.com/dog_rates/status/892177421...              13.0   \n",
       "2  https://twitter.com/dog_rates/status/891815181...              12.0   \n",
       "3  https://twitter.com/dog_rates/status/891689557...              13.0   \n",
       "4  https://twitter.com/dog_rates/status/891327558...              12.0   \n",
       "\n",
       "   rating_denominator      name  retweet_count  favorite_count  ...  \\\n",
       "0                  10   Phineas           8853           39467  ...   \n",
       "1                  10     Tilly           6514           33819  ...   \n",
       "2                  10    Archie           4328           25461  ...   \n",
       "3                  10     Darla           8964           42908  ...   \n",
       "4                  10  Franklin           9774           41048  ...   \n",
       "\n",
       "            p1   p1_conf p1_dog                  p2   p2_conf p2_dog  \\\n",
       "0       orange  0.097049  False               bagel  0.085851  False   \n",
       "1    chihuahua  0.323581   True            pekinese  0.090647   True   \n",
       "2    chihuahua  0.716012   True            malamute  0.078253   True   \n",
       "3  paper_towel  0.170278  False  labrador_retriever  0.168086   True   \n",
       "4       basset  0.555712   True    english_springer  0.225770   True   \n",
       "\n",
       "                            p3   p3_conf p3_dog  dogs  \n",
       "0                       banana  0.076110  False   NaN  \n",
       "1                     papillon  0.068957   True   NaN  \n",
       "2                       kelpie  0.031379   True   NaN  \n",
       "3                      spatula  0.040836  False   NaN  \n",
       "4  german_short-haired_pointer  0.175219   True   NaN  \n",
       "\n",
       "[5 rows x 22 columns]"
      ]
     },
     "execution_count": 228,
     "metadata": {},
     "output_type": "execute_result"
    }
   ],
   "source": [
    "df = pd.read_csv('twitter_archive_master.csv')\n",
    "df.head()"
   ]
  },
  {
   "cell_type": "markdown",
   "id": "0b3fabb2",
   "metadata": {},
   "source": [
    "## Analyzing and Visualizing data"
   ]
  },
  {
   "cell_type": "markdown",
   "id": "d06b49f2",
   "metadata": {},
   "source": [
    "<ul>\n",
    "    <li>Top 3 dog breeds with the highest value count</li>\n",
    "    <li>correlations between favourite count and retweet count</li>\n",
    "    <li>10 dogs with the highest retweet rate</li>"
   ]
  },
  {
   "cell_type": "markdown",
   "id": "a2417bb9",
   "metadata": {},
   "source": [
    "### 3 dog breeds with highest the value count"
   ]
  },
  {
   "cell_type": "markdown",
   "id": "d4c25db3",
   "metadata": {},
   "source": [
    "The breeds of dogs are classified into p1, p2, p3 respectively "
   ]
  },
  {
   "cell_type": "code",
   "execution_count": 229,
   "id": "cb8c1e17",
   "metadata": {},
   "outputs": [
    {
     "data": {
      "text/plain": [
       "golden_retriever      137\n",
       "labrador_retriever     94\n",
       "pembroke               88\n",
       "chihuahua              78\n",
       "pug                    54\n",
       "                     ... \n",
       "nail                    1\n",
       "timber_wolf             1\n",
       "espresso                1\n",
       "bib                     1\n",
       "desktop_computer        1\n",
       "Name: p1, Length: 373, dtype: int64"
      ]
     },
     "execution_count": 229,
     "metadata": {},
     "output_type": "execute_result"
    }
   ],
   "source": [
    "# Dog breed with the highest value count in p1\n",
    "combine_arch.p1.value_counts()"
   ]
  },
  {
   "cell_type": "code",
   "execution_count": 230,
   "id": "3af6d2ba",
   "metadata": {},
   "outputs": [
    {
     "data": {
      "text/plain": [
       "labrador_retriever          95\n",
       "golden_retriever            82\n",
       "cardigan                    73\n",
       "chihuahua                   43\n",
       "chesapeake_bay_retriever    40\n",
       "                            ..\n",
       "screw                        1\n",
       "coffee_mug                   1\n",
       "sombrero                     1\n",
       "handkerchief                 1\n",
       "mud_turtle                   1\n",
       "Name: p2, Length: 396, dtype: int64"
      ]
     },
     "execution_count": 230,
     "metadata": {},
     "output_type": "execute_result"
    }
   ],
   "source": [
    "combine_arch.p2.value_counts()"
   ]
  },
  {
   "cell_type": "code",
   "execution_count": 231,
   "id": "15c39036",
   "metadata": {},
   "outputs": [
    {
     "data": {
      "text/plain": [
       "labrador_retriever     76\n",
       "chihuahua              57\n",
       "golden_retriever       45\n",
       "eskimo_dog             36\n",
       "kelpie                 33\n",
       "                       ..\n",
       "bannister               1\n",
       "rotisserie              1\n",
       "hand_blower             1\n",
       "american_black_bear     1\n",
       "partridge               1\n",
       "Name: p3, Length: 403, dtype: int64"
      ]
     },
     "execution_count": 231,
     "metadata": {},
     "output_type": "execute_result"
    }
   ],
   "source": [
    "combine_arch.p3.value_counts()"
   ]
  },
  {
   "cell_type": "markdown",
   "id": "5d9f9498",
   "metadata": {},
   "source": [
    "The top 5 breeds of dogs in p1, p2, p3 were the labrador_retriever, golden_retriever and chihuahua because it significantly high in all p1, p2 and p3 "
   ]
  },
  {
   "cell_type": "markdown",
   "id": "43d51ba3",
   "metadata": {},
   "source": [
    "### Correlation between favorite count and value count"
   ]
  },
  {
   "cell_type": "code",
   "execution_count": 232,
   "id": "e41a27b5",
   "metadata": {},
   "outputs": [
    {
     "data": {
      "image/png": "[encoded data removed]",
      "text/plain": [
       "<Figure size 432x288 with 1 Axes>"
      ]
     },
     "metadata": {
      "needs_background": "light"
     },
     "output_type": "display_data"
    }
   ],
   "source": [
    "plt.scatter(combine_arch.favorite_count, combine_arch.retweet_count)\n",
    "plt.xlabel('favorite_count');\n",
    "plt.ylabel('retweet_count');\n",
    "plt.title('correlation between retweet count and favourite count');"
   ]
  },
  {
   "cell_type": "markdown",
   "id": "d8f010d6",
   "metadata": {},
   "source": [
    "favorite count has a positive correlation with retweet count"
   ]
  },
  {
   "cell_type": "markdown",
   "id": "63d9b271",
   "metadata": {},
   "source": [
    "### 10 dogs with highest retweet rate"
   ]
  },
  {
   "cell_type": "code",
   "execution_count": 233,
   "id": "8a3bec48",
   "metadata": {},
   "outputs": [
    {
     "data": {
      "text/html": [
       "<div>\n",
       "<style scoped>\n",
       "    .dataframe tbody tr th:only-of-type {\n",
       "        vertical-align: middle;\n",
       "    }\n",
       "\n",
       "    .dataframe tbody tr th {\n",
       "        vertical-align: top;\n",
       "    }\n",
       "\n",
       "    .dataframe thead th {\n",
       "        text-align: right;\n",
       "    }\n",
       "</style>\n",
       "<table border=\"1\" class=\"dataframe\">\n",
       "  <thead>\n",
       "    <tr style=\"text-align: right;\">\n",
       "      <th></th>\n",
       "      <th>name</th>\n",
       "      <th>retweet_count</th>\n",
       "    </tr>\n",
       "  </thead>\n",
       "  <tbody>\n",
       "    <tr>\n",
       "      <th>0</th>\n",
       "      <td>Phineas</td>\n",
       "      <td>8853</td>\n",
       "    </tr>\n",
       "    <tr>\n",
       "      <th>1</th>\n",
       "      <td>Tilly</td>\n",
       "      <td>6514</td>\n",
       "    </tr>\n",
       "    <tr>\n",
       "      <th>2</th>\n",
       "      <td>Archie</td>\n",
       "      <td>4328</td>\n",
       "    </tr>\n",
       "    <tr>\n",
       "      <th>3</th>\n",
       "      <td>Darla</td>\n",
       "      <td>8964</td>\n",
       "    </tr>\n",
       "    <tr>\n",
       "      <th>4</th>\n",
       "      <td>Franklin</td>\n",
       "      <td>9774</td>\n",
       "    </tr>\n",
       "    <tr>\n",
       "      <th>5</th>\n",
       "      <td>None</td>\n",
       "      <td>3261</td>\n",
       "    </tr>\n",
       "    <tr>\n",
       "      <th>6</th>\n",
       "      <td>Jax</td>\n",
       "      <td>2158</td>\n",
       "    </tr>\n",
       "    <tr>\n",
       "      <th>7</th>\n",
       "      <td>None</td>\n",
       "      <td>16716</td>\n",
       "    </tr>\n",
       "    <tr>\n",
       "      <th>8</th>\n",
       "      <td>Zoey</td>\n",
       "      <td>4429</td>\n",
       "    </tr>\n",
       "    <tr>\n",
       "      <th>9</th>\n",
       "      <td>Cassie</td>\n",
       "      <td>7711</td>\n",
       "    </tr>\n",
       "  </tbody>\n",
       "</table>\n",
       "</div>"
      ],
      "text/plain": [
       "       name  retweet_count\n",
       "0   Phineas           8853\n",
       "1     Tilly           6514\n",
       "2    Archie           4328\n",
       "3     Darla           8964\n",
       "4  Franklin           9774\n",
       "5      None           3261\n",
       "6       Jax           2158\n",
       "7      None          16716\n",
       "8      Zoey           4429\n",
       "9    Cassie           7711"
      ]
     },
     "execution_count": 233,
     "metadata": {},
     "output_type": "execute_result"
    }
   ],
   "source": [
    "# bringing out the columns needed\n",
    "combine_arch[['name', 'retweet_count']].head(10)"
   ]
  },
  {
   "cell_type": "code",
   "execution_count": 234,
   "id": "6ddd8ce7",
   "metadata": {},
   "outputs": [
    {
     "data": {
      "image/png": "[encoded data removed]",
      "text/plain": [
       "<Figure size 432x288 with 1 Axes>"
      ]
     },
     "metadata": {
      "needs_background": "light"
     },
     "output_type": "display_data"
    }
   ],
   "source": [
    "sns.barplot(y='name', x='retweet_count', data=combine_arch[:10]).set_title('top 10 dogs with highest retweet count');"
   ]
  },
  {
   "cell_type": "markdown",
   "id": "05caef4a",
   "metadata": {},
   "source": [
    "Franklin had the highest retweet count with the value of 9774, followed by Darla with the value of 8964, who was also in close tie with Phineas with the value of 8853. A lot of dogs didn't have names."
   ]
  }
 ],
 "metadata": {
  "kernelspec": {
   "display_name": "Python 3 (ipykernel)",
   "language": "python",
   "name": "python3"
  },
  "language_info": {
   "codemirror_mode": {
    "name": "ipython",
    "version": 3
   },
   "file_extension": ".py",
   "mimetype": "text/x-python",
   "name": "python",
   "nbconvert_exporter": "python",
   "pygments_lexer": "ipython3",
   "version": "3.9.12"
  }
 },
 "nbformat": 4,
 "nbformat_minor": 5
}
