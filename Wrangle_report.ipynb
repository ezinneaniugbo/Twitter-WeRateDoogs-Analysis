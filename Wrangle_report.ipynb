{
 "cells": [
  {
   "cell_type": "markdown",
   "id": "868e30e8",
   "metadata": {},
   "source": [
    "# Wrangle Report\n",
    "by Aniugbo Ezinne\n",
    "\n",
    "In this project I made analysis on a twitter account Weratedogs that rates people's dogs.\n",
    "I gathered 3 pieces of data from different sources which were all provided by Udacity\n",
    "\n",
    "### Gathering data\n",
    "The first data is a csv file which was manually downloaded from Udacity's server, the name of the file called twitter_archive_enhanced, the second data is a tsv  file and was gotten by using a URL and programmatically reading the tab seperated vaiue text. The third data was supposed to be from twitter API but I ended up using a text file from Udacity.\n",
    "Used requests to get the tsv file, JSON to load text file, and then all the files were read into the dataframe using Pandas.\n",
    "\n",
    "### Accessing data\n",
    "All 3 Dataframes were visually and programmatically to identify quality issues\n",
    "### Quality issues\n",
    "Identifing reply and retweet and drop them\n",
    "Missing values in columns will dropped\n",
    "Timestamp should be in datetime datatype\n",
    "The source column in twitter archive includes some of html code\n",
    "Retweets and reply will be identified and dropped\n",
    "Extract numerator content from text column\n",
    "The names of dogs in columns p1, p2, and p3 have both uppercase and lowercase letters in the image prediction table\n",
    "Drops rows with duplicates in the jpg_url column\n",
    " Rename id in the tweets df as tweets_id\n",
    "### Tidiness issues\n",
    "Doggo, Floofer, Pupper and Puppo should be in one row\n",
    "Join 'tweet_info' and 'image_predictions' to 'twitter_archive'\n",
    "### Storing data\n",
    "After the 3 dataframes were cleaned and all the issues addressed, they were all merged into one dataframe called combine_arch, the dataset was stored as a csv file called twitter_archive_master"
   ]
  },
  {
   "cell_type": "markdown",
   "id": "f36a83df",
   "metadata": {},
   "source": [
    "### Act report\n",
    "by Aniugbo Queen-Esther\n",
    "\n",
    "\n",
    "Introduction\n",
    "This project is a illustrates the data wrangling process of weratedogs archive tweet. this analysis circumbulates their trend in popularity over time, based on favorite count and retweet count\n",
    "\n",
    "Project overview\n",
    "Gathering\n",
    "These are the files gathered for analysis\n",
    "twitter_archive_enhanced- Weratedogs twitter archive was downloaded as a csv file later named twitter_arch\n",
    "Twitter_image_prediction- Was provided by Udacity and downloaded programmatically using a URL, which named image_pred\n",
    "json_file_txt- the file contains JSON data specifying the tweet with favorite_count and retweet count\n",
    "\n",
    "Accessing data\n",
    "The 3 data frames gotten from the gathering section will be accessed visually and programmatically\n",
    "\n",
    "clean data\n",
    "the tidiness and quality issues were addressed with programmatic techniques such as\n",
    "Identifing reply and retweet and drop them\n",
    "Missing values in columns will dropped\n",
    "Timestamp should be in datetime datatype\n",
    "The source column in twitter archive includes some of html code\n",
    "Retweets and reply will be identified and dropped\n",
    "Extract numerator content from text column\n",
    "The names of dogs in columns p1, p2, and p3 have both uppercase and lowercase letters in the image prediction table\n",
    "Drops rows with duplicates in the jpg_url column\n",
    " Rename id in the tweets df as tweets_id"
   ]
  },
  {
   "cell_type": "code",
   "execution_count": null,
   "id": "66281936",
   "metadata": {},
   "outputs": [],
   "source": []
  }
 ],
 "metadata": {
  "kernelspec": {
   "display_name": "Python 3 (ipykernel)",
   "language": "python",
   "name": "python3"
  },
  "language_info": {
   "codemirror_mode": {
    "name": "ipython",
    "version": 3
   },
   "file_extension": ".py",
   "mimetype": "text/x-python",
   "name": "python",
   "nbconvert_exporter": "python",
   "pygments_lexer": "ipython3",
   "version": "3.9.12"
  }
 },
 "nbformat": 4,
 "nbformat_minor": 5
}
